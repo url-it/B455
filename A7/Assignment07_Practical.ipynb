{
  "cells": [
    {
      "cell_type": "markdown",
      "metadata": {
        "id": "EUUTKW5RGA3F"
      },
      "source": [
        "# Question 4: Machine Learning Workflow\n",
        "\n",
        "## Overview\n",
        "This assignment will take you through the steps of preprocessing data, applying dimensionality reduction, training classification models, and evaluating their accuracy. You will work with a provided dataset to predict a target variable based on various features.\n",
        "\n",
        "## Dataset\n",
        "\n",
        "Use the following dataset: https://www.kaggle.com/datasets/lovishbansal123/nasa-asteroids-classification/data\n",
        "\n",
        "## Part 1: Data Preprocessing\n",
        "### Task 1: Data Cleaning\n",
        "- Identify and handle missing values.\n",
        "- Detect and remove outliers, if necessary.\n",
        "\n",
        "### Task 2: Feature Standardization\n",
        "- Perform standardization to the dataset.\n",
        "\n",
        "## Part 2: Dimensionality Reduction\n",
        "### Task: Implement any of the appropriate dimensionality reduction methods discussed in Chapter 6.\n",
        "\n",
        "## Part 3: Classification\n",
        "### Task: Implement Classification Algorithms\n",
        "- Implement at least two different classification algorithms discussed in the textbook (e.g., Logistic Regression, Decision Trees, K-Nearest Neighbors, etc).\n",
        "- Briefly describe each algorithm's principle and why it might be suitable for this dataset.\n",
        "\n",
        "## Part 4: Model Evaluation\n",
        "### Task: Accuracy Measurement\n",
        "- Split the dataset into training and testing sets.\n",
        "- Train your models on the training set and predict the target variable in the test set.\n",
        "- Calculate the accuracy of each model\n",
        "- Compare the performance of the models and discuss any differences observed.\n",
        "\n",
        "## Deliverables\n",
        "- A report documenting your findings, including:\n",
        "    - The preprocessing steps and justifications.\n",
        "    - Describe dimensionality reduction methods and justifications.\n",
        "    - Description of each classification algorithm used and the rationale for their selection.\n",
        "    - Accuracy scores of each model and a comparison discussion.\n",
        "- Code files containing your implementation.\n",
        "\n",
        "## Evaluation Criteria\n",
        "- Correctness and completeness of the preprocessing steps.\n",
        "- Proper implementation and justification of the dimensionality reduction technique.\n",
        "- Logical selection and implementation of classification algorithms.\n",
        "- Accuracy of the models and depth of the evaluation discussion.\n",
        "- **Submit both .ipynb and .html file to avoid any penalty.**\n",
        "\n",
        "## Submission Guidelines\n",
        "- Python notebook (.ipynb)\n",
        "- HTML file (.html)\n"
      ]
    },
    {
      "cell_type": "code",
      "execution_count": 4,
      "metadata": {
        "id": "oU6Qgb1sF0IG"
      },
      "outputs": [
        {
          "name": "stdout",
          "output_type": "stream",
          "text": [
            "Accuracy of K-NN classifier on test set: 0.82\n",
            "Accuracy of logistic regression classifier on test set: 0.54\n"
          ]
        },
        {
          "data": {
            "image/png": "[encoded data removed]",
            "text/plain": [
              "<Figure size 640x480 with 1 Axes>"
            ]
          },
          "metadata": {},
          "output_type": "display_data"
        }
      ],
      "source": [
        "# Write your code here\n",
        "\n",
        "import pandas as pd\n",
        "import numpy as np\n",
        "import matplotlib.pyplot as plt\n",
        "from sklearn.decomposition import PCA\n",
        "from sklearn.model_selection import train_test_split\n",
        "from sklearn.linear_model import LogisticRegression\n",
        "from sklearn.neighbors import KNeighborsClassifier\n",
        "from sklearn import metrics\n",
        "\n",
        "# Cleaing the data and removing the columns that are not needed\n",
        "data = pd.read_csv('nasa.csv')\n",
        "data = data.dropna()\n",
        "data = data.drop_duplicates();\n",
        "data = data.drop(['Neo Reference ID', 'Name', 'Close Approach Date','Orbiting Body','Orbit Determination Date','Equinox'], axis=1)\n",
        "# Setting the Hazardous column to be an integer of 0 or 1\n",
        "data['Hazardous'] = data['Hazardous'].astype(int)\n",
        "\n",
        "# Splitting the data into training and testing data\n",
        "X = data.drop('Hazardous', axis=1)\n",
        "y = data['Hazardous']\n",
        "X_train, X_test, y_train, y_test = train_test_split(X, y, test_size=0.2, random_state=99)\n",
        "\n",
        "# Using PCA to reduce the number of features to 2 \n",
        "pca = PCA(n_components=2)\n",
        "X_train = pca.fit_transform(X_train)\n",
        "X_test = pca.transform(X_test)\n",
        "\n",
        "# Our two models\n",
        "knn = KNeighborsClassifier(n_neighbors=5)\n",
        "logreg = LogisticRegression()\n",
        "\n",
        "knn.fit(X_train, y_train)\n",
        "logreg.fit(X_train, y_train)\n",
        "\n",
        "y_pred_knn = knn.predict(X_test)\n",
        "y_pred_logreg = logreg.predict(X_test)\n",
        "\n",
        "# Needed a bit of help regarding the graphing part for this\n",
        "# Will discuss a bit more in the report\n",
        "cmKnn = metrics.confusion_matrix(y_test, y_pred_knn)\n",
        "cmLogReg = metrics.confusion_matrix(y_test, y_pred_logreg)\n",
        "\n",
        "# Prints the accuracy of the models\n",
        "print('Accuracy of K-NN classifier on test set: {:.2f}'.format(knn.score(X_test, y_test)))\n",
        "print('Accuracy of logistic regression classifier on test set: {:.2f}'.format(logreg.score(X_test, y_test)))\n",
        "\n",
        "# Plots the confusion matrix\n",
        "correctLogReg = np.trace(cmLogReg)\n",
        "incorrectLogReg = np.sum(cmLogReg) - correctLogReg\n",
        "correctKnn = np.trace(cmKnn)\n",
        "incorrectKnn = np.sum(cmKnn) - correctKnn\n",
        "dataFr = pd.DataFrame({'Correct': [correctLogReg, correctKnn], 'Incorrect': [incorrectLogReg, incorrectKnn]}, index=['Logistic Regression', 'K-NN'])\n",
        "dataFr.plot.bar(rot=0)\n",
        "plt.show()\n",
        "\n"
      ]
    },
    {
      "cell_type": "markdown",
      "metadata": {},
      "source": [
        "## Report\n",
        "\n",
        "The main idea I was trying to accomplish was determing whether an asteriod was hazardous or not. Using the given data set by Kaggle/NASA, I cleaned the data a bit and selected features that I thought would seem useful for the classification models. Once the data was cleaned, I set the target variable to be the 'Hazardous' column. then split the data into training and testing sets, with the training set being 80% of the data. I also made the Hazardous column binary, so it would be easier to work with, and simple to do since it was just a yes or no. Using the following classification models: Logistic Regression and K-Nearest Neighbors, which was 4NN in this case, I was able to achieve an accuracy of 54% and 86%. \n",
        "\n",
        "### Preprocessing Stepsn and Justifications\n",
        "\n",
        "First off we started off by cleaning the data by removing any missing values, which also meant removing the rows of data as well. We also cleaned/selected features that I thought would be useful for both the modes. So things like their name, id, and other features I thought would not be useful were removed, since you can't really classify an asteroid's hazard level based on its name, and dates. It also made the model's \"crash\" less because the didn't have to process the data, since it's formatted as strings. I finally set the target variable to be the 'Hazardous' column, while also making it binary. I noticed that the 'Hazardous' column was a string, but it was either \"Yes\" or \"No\", so I made it binary, so it would be easier to work with. \n",
        "\n",
        "### Dimensionality Reduction Methods and Justifications\n",
        "\n",
        "For the dimensionality reduction, I used the PCA method because it maintains the overall structure of the data, while also reducing the dimensions of the dataset. In this case our data was really huge, from the looks of the CSV file, but I still wanted to keep a large amount of informaton needed for classification. This is useful because it makes the data easier to work with, and keeping the information needed for our models to learn. Although, when run without a dimensionality reduction method, the models still performed well. Afterwards the Logistic Regression model had received a major impact to its accuracy, while the K-Nearest Neighbors model had a slight increase in accuracy.\n",
        "\n",
        "### Classification Algorithms Used and Rationale for Selection\n",
        "\n",
        "First I wanted to see how we could determine whether an asteroid was hazardous or not, based on other neighboring data points. I already knew I wanted to try out KNN because of that reason. How good does KNN work with this data? It also seemed reasonable because if there was some sort of pattern in the data that would be useful for classification, KNN would be able to pick up on that, since the concept of nearest neighbors is based on the idea that similar data points are close to each other. I determine that 4 neighbors would be a good number to use, since it's not too small or too big. It also didn't feel like it was overfitting the data. Finally, I wanted to see how the Logistic Regression model would perform in a yes or no classification problem. Originally, I expect this to perform well, but it didn't. I though it would be the best because it's suppose to be good regarding binary classification problems. Could it be in the way I set it up? \n",
        "\n",
        "### Accuracy Scores of Each Model and Comparison Discussion\n",
        "\n",
        "As previously mentioned the Logistic Regression model had a terrible score, which was 54%. Again, suprised to see this since it's suppose to work with binary classification problems. I tested it out without a PCA method and it went up by a lot, scoring a 86% accuracy. Maybe the PCA method was not ideal for this model because some of the data could've been compressed too much, and the model couldn't learn from it as well. It could also be because of the other features that were removed, which could've been useful for the model. Finally, it could also be the way I formatted the data or how it's formatted. Since it's a lot of numbers, instead of a simple yes or no, it could've been harder for the model to learn from, and could be seeing the random numbers as \"Yes\" or \"No\" values.\n",
        "\n",
        "The K-Nearest Neighbors model had a pretty good score of 83% with/without the PCA method. If I went something higher like 5 or 6 neighbors, the accuracy would drops. I did expect a score like this since it's a classification model, and I wanted to make sure it had enough details since it's like a \"pattern finder,\" since it labels data points based on the majority of its neighbors. Overall, the PCA didn't benefit or decrease the accuracy of the model probably because it had the data on hand every time it needed to make a prediction.\n",
        "\n",
        "Also I needed a bit of help regarding displaying how maany classifications were done correctly or not. My friend gave me the idea of using a confusion matrix, which worked out well. The way he explained a confusion matrix was that it's a table that is often used to describe the performance of a classification model. So like seeing what actually tested positive and what was predicted positive. Kind of like what we did for Bayesian statistics. \n",
        "\n",
        "\n",
        "\n",
        "### Finally, Thank you for a great semester!"
      ]
    }
  ],
  "metadata": {
    "colab": {
      "provenance": []
    },
    "kernelspec": {
      "display_name": "Python 3",
      "name": "python3"
    },
    "language_info": {
      "codemirror_mode": {
        "name": "ipython",
        "version": 3
      },
      "file_extension": ".py",
      "mimetype": "text/x-python",
      "name": "python",
      "nbconvert_exporter": "python",
      "pygments_lexer": "ipython3",
      "version": "3.9.13"
    }
  },
  "nbformat": 4,
  "nbformat_minor": 0
}
