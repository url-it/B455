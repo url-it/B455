{
  "cells": [
    {
      "cell_type": "markdown",
      "metadata": {
        "id": "x5FRwUbEfYtp"
      },
      "source": [
        "## Important instruction\n",
        "\n",
        "For programming exercises that only editing, only edit the code as shown in the following format.\n",
        "\n",
        "```\n",
        "##############################################\n",
        "\n",
        "#Edit the following code\n",
        "\n",
        "var1 = 3\n",
        "var2 = 4\n",
        "print(var1 + var4)\n",
        "\n",
        "##############################################\n",
        "```\n",
        "\n",
        "You are open to experimenting with the other parts of code but you will only be awarded points if the question asked is answered which only needs finishing or making changes to the code in the above specified format."
      ]
    },
    {
      "cell_type": "markdown",
      "metadata": {
        "id": "CIl4Pn4hvf_4"
      },
      "source": [
        "## Question 7: Importing and loading data\n",
        "\n"
      ]
    },
    {
      "cell_type": "markdown",
      "metadata": {
        "id": "v2_-7L62g03l"
      },
      "source": [
        "**Pandas is a very important library in Python that helps in importing, loading and manipulation of data. Below is an example on how data from a Comma-separated values (CSV) file can be converted to a pandas DataFrame which we will be using to perform operations on.**\n",
        "\n",
        "*You can experiment and know more about the different data file formats that can be used with Pandas referring to https://pandas.pydata.org/docs/user_guide/io.html.*"
      ]
    },
    {
      "cell_type": "code",
      "execution_count": null,
      "metadata": {
        "colab": {
          "base_uri": "https://localhost:8080/",
          "height": 209
        },
        "id": "cMhtf5wy_ey9",
        "outputId": "3580f819-f498-425b-a4cc-bf2fbd0b180a"
      },
      "outputs": [],
      "source": [
        "import pandas as pd\n",
        "\n",
        "student_data_csv = 'https://raw.githubusercontent.com/KrishnaTejaJ/datasets-CSCI-B455/main/assignment%202/question9/student_data.csv'\n",
        "\n",
        "data_csv = pd.read_csv(student_data_csv)\n",
        "\n",
        "print(\"Displaying data_csv\\n\")\n",
        "data_csv.head()"
      ]
    },
    {
      "cell_type": "markdown",
      "metadata": {
        "id": "m_ZKKYAht6xS"
      },
      "source": [
        "**In general csv file are one of the most commonly used source data file formats. In CSV files, delimiters are used to seperate data values, although default delimiter is a comma, other data files can use a different delimiter.**\n",
        "\n",
        "**Your task would be to correctly create a dataframe from student_data_delim.csv using pandas that has same number of columns and rows as the student_data.csv**\n",
        "\n",
        "*For more information, refer to https://www.geeksforgeeks.org/how-to-read-a-csv-file-to-a-dataframe-with-custom-delimiter-in-pandas/*"
      ]
    },
    {
      "cell_type": "code",
      "execution_count": null,
      "metadata": {
        "colab": {
          "base_uri": "https://localhost:8080/",
          "height": 35
        },
        "id": "J_bNOw91ew8y",
        "outputId": "23428445-bc1d-4383-e27f-0ddfff7bc7c2"
      },
      "outputs": [],
      "source": [
        "#Custom delimiter\n",
        "\n",
        "def check_delim(data_delim, def_data):\n",
        "  data = pd.read_csv(def_data)\n",
        "  if data.shape == data_delim.shape:\n",
        "    return 'Correct Solution'\n",
        "  return 'Wrong solution, please try again'\n",
        "\n",
        "student_data_csv = 'https://raw.githubusercontent.com/KrishnaTejaJ/datasets-CSCI-B455/main/assignment%202/question9/student_data.csv'\n",
        "student_data_delim = 'https://raw.githubusercontent.com/KrishnaTejaJ/datasets-CSCI-B455/main/assignment%202/question9/student_data_delim.csv'\n",
        "\n",
        "############################################################\n",
        "#Edit the following code\n",
        "\n",
        "#Load data from the file student_data_delim\n",
        "data_delim = pd.read_csv(student_data_delim, delimiter=';')\n",
        "\n",
        "############################################################\n",
        "\n",
        "check_delim(data_delim, student_data_csv)"
      ]
    },
    {
      "cell_type": "markdown",
      "metadata": {
        "id": "YbpRwCTTAZpW"
      },
      "source": [
        "**Pandas can also help in filtering out the columns before loading allowing to omit any unneccesary columns.**\n",
        "\n",
        "**You task is to create a dataframe data_filtered which only contains the columns 'Name' and 'Grade' from** 'student_data_csv'\n",
        "\n",
        "*To have a closer look at different parameters of read_csv, refer to https://pandas.pydata.org/docs/reference/api/pandas.read_csv.html*"
      ]
    },
    {
      "cell_type": "code",
      "execution_count": null,
      "metadata": {
        "id": "kinXAo2l_oc-"
      },
      "outputs": [],
      "source": [
        "#Column Selection\n",
        "\n",
        "def check_filter(data_filtered):\n",
        "  if list(data_filtered.columns) == ['Name', 'Grade']:\n",
        "    return 'Correct Solution'\n",
        "  return 'Wrong solution, please try again'\n",
        "\n",
        "student_data_csv = 'https://raw.githubusercontent.com/KrishnaTejaJ/datasets-CSCI-B455/main/assignment%202/question9/student_data.csv'\n",
        "\n",
        "############################################################\n",
        "#Edit the following code\n",
        "\n",
        "#Load the data with only 'Name' and 'Grade' columns using student_data_csv\n",
        "data_filtered = pd.read_csv(student_data_csv, usecols=['Name', 'Grade'])[['Name', 'Grade']]\n",
        "\n",
        "############################################################\n",
        "\n",
        "check_filter(data_filtered)"
      ]
    },
    {
      "cell_type": "markdown",
      "metadata": {
        "id": "wvzw0hGPArAG"
      },
      "source": [
        "## Question 8: Bayes Classifier - Scikit learn\n",
        "\n",
        "**Complete the code to split the MNIST dataset into training and testing sets of 80 and 20 percent respectively, create a Multinomial Naive Bayes classifier, fit the classifier on the training data, and make predictions on the test set. Set the random state for the train-test split to 99.\n",
        "Finish the code in the specified section to complete the tasks mentioned.**\n",
        "\n",
        "*For more information, refer to https://scikit-learn.org/stable/modules/generated/sklearn.naive_bayes.MultinomialNB.html*"
      ]
    },
    {
      "cell_type": "code",
      "execution_count": 9,
      "metadata": {
        "id": "nLrEJCehA1S-"
      },
      "outputs": [
        {
          "name": "stdout",
          "output_type": "stream",
          "text": [
            "Accuracy: 0.8227142857142857\n"
          ]
        }
      ],
      "source": [
        "import numpy as np\n",
        "from sklearn.model_selection import train_test_split\n",
        "from sklearn.naive_bayes import MultinomialNB\n",
        "from sklearn.metrics import accuracy_score\n",
        "from sklearn.datasets import fetch_openml\n",
        "\n",
        "# Load MNIST dataset\n",
        "mnist = fetch_openml('mnist_784', version=1)\n",
        "X = mnist.data.astype('float32') / 255.0  # Normalize pixel values to be between 0 and 1\n",
        "y = mnist.target.astype('int')\n",
        "\n",
        "############################################################\n",
        "#Edit the following code\n",
        "\n",
        "# Split the dataset into training and testing sets of 80 and 20 percent respectively, make sure to set the random_state to 99\n",
        "X_train, X_test, y_train, y_test = train_test_split(X, y, test_size=.2, train_size=.8, random_state=99)\n",
        "# Create a Multinomial Naive Bayes classifier\n",
        "classifier = MultinomialNB()\n",
        "#Fit the classifier\n",
        "classifier.fit(X_train, y_train)\n",
        "\n",
        "############################################################\n",
        "\n",
        "# Make predictions on the test set\n",
        "y_pred = classifier.predict(X_test)\n",
        "\n",
        "# Calculate accuracy\n",
        "accuracy = accuracy_score(y_test, y_pred)\n",
        "print(\"Accuracy:\", accuracy)"
      ]
    },
    {
      "cell_type": "markdown",
      "metadata": {
        "id": "2DVzzNF_AuqX"
      },
      "source": [
        "## Question 9: Linear regression\n",
        "\n",
        "**Your task to implement a linear regression model using scikit learn package of python. Please follow the below steps**\n",
        "\n",
        "- Load the data using the variable 'linear_data'\n",
        "- Split the dataset into training and testing sets. Target Variable is 'Chance of Admit'.\n",
        "- Use linear regression model from scikit learn package\n",
        "- Evaluate the model using mean squared error (MSE) for the test set and the print the value\n",
        "- Run 3 experiments by varying train-test split percentages, random state and other parameters, for more refer https://scikit-learn.org/stable/modules/generated/sklearn.model_selection.train_test_split.html\n",
        "- Choose the experiment that has least MSE and find the coefficients and intercept for that corresponding Linear Regression model.\n",
        "\n",
        "\n",
        "**Hint:**\n",
        "\n",
        "Since, its linear regression the equation would be in the following format,\n",
        "\n",
        "Y = β₀ + β₁ * X₁ + β₂ * X₂ + ... + βₙ * Xₙ + ɛ\n",
        "\n",
        "Using scikit learn we can find the slopes/coefficients of each feature i.e. β₁, β₂, ..., βₙ and intercept β₀.\n",
        "\n",
        "\n",
        "*For more information, refer to https://scikit-learn.org/stable/modules/generated/sklearn.linear_model.LinearRegression.html*"
      ]
    },
    {
      "cell_type": "code",
      "execution_count": 10,
      "metadata": {
        "id": "BQ_CKF-8TfJT"
      },
      "outputs": [
        {
          "name": "stdout",
          "output_type": "stream",
          "text": [
            "First Test (L3):\n",
            "0.004303691767806357\n",
            "Second Test (90% Train):\n",
            "0.007209429667362386\n",
            "Third Test (70% Train):\n",
            "0.004006652545177498\n",
            "Fourth Test (50% Train):\n",
            "0.0012696055570793011\n",
            "Intercept:  -1.2549245860723777\n",
            "Coefficient:  [ 0.00173344  0.00291109  0.00567742 -0.00279359  0.0220252   0.11862635\n",
            "  0.0244433 ]\n"
          ]
        }
      ],
      "source": [
        "from sklearn.linear_model import LinearRegression \n",
        "from sklearn.model_selection import train_test_split\n",
        "from sklearn.metrics import mean_squared_error, r2_score\n",
        "\n",
        "linear_data = 'https://raw.githubusercontent.com/KrishnaTejaJ/datasets-CSCI-B455/main/assignment%202/question12/linear_data.csv'\n",
        "#Write your code here\n",
        "dataset = pd.read_csv(linear_data);\n",
        "X = dataset.drop(columns=['Chance of Admit'])\n",
        "y = dataset['Chance of Admit']\n",
        "\n",
        "X_train, X_test, y_train, y_test = train_test_split(X, y, train_size=0.8, random_state=99)\n",
        "lr = LinearRegression()\n",
        "lr.fit(X_train, y_train)\n",
        "\n",
        "y_pred=(lr.predict(X_test))\n",
        "print(\"First Test (L3):\")\n",
        "print(mean_squared_error(y_test, y_pred))\n",
        "\n",
        "# 90% Train data\n",
        "X_train, X_test, y_train, y_test = train_test_split(X, y, train_size=0.9, random_state=99) \n",
        "lr.fit(X_train, y_train)\n",
        "y_pred=(lr.predict(X_test))\n",
        "print(\"Second Test (90% Train):\")\n",
        "print(mean_squared_error(y_test, y_pred))\n",
        "\n",
        "# 70% Train data <---- Best\n",
        "X_train, X_test, y_train, y_test = train_test_split(X, y, train_size=0.7, random_state=99)\n",
        "lr.fit(X_train, y_train)\n",
        "y_pred=(lr.predict(X_test))\n",
        "inter = lr.intercept_\n",
        "coef = lr.coef_\n",
        "print(\"Third Test (70% Train):\")\n",
        "print(mean_squared_error(y_test, y_pred))\n",
        "\n",
        "\n",
        "X_train, X_test, y_train, y_test = train_test_split(X, y, train_size=0.99999, random_state=999)\n",
        "lr.fit(X_train, y_train)\n",
        "y_pred=(lr.predict(X_test))\n",
        "print(\"Fourth Test (50% Train):\")\n",
        "print(mean_squared_error(y_test, y_pred))\n",
        "\n",
        "coef = lr.coef_\n",
        "inter = lr.intercept_\n",
        "print(\"Intercept: \", inter)\n",
        "print(\"Coefficient: \", coef)\n",
        "\n"
      ]
    }
  ],
  "metadata": {
    "colab": {
      "provenance": []
    },
    "kernelspec": {
      "display_name": "Python 3",
      "name": "python3"
    },
    "language_info": {
      "codemirror_mode": {
        "name": "ipython",
        "version": 3
      },
      "file_extension": ".py",
      "mimetype": "text/x-python",
      "name": "python",
      "nbconvert_exporter": "python",
      "pygments_lexer": "ipython3",
      "version": "3.9.13"
    }
  },
  "nbformat": 4,
  "nbformat_minor": 0
}
